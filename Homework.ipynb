{
  "nbformat": 4,
  "nbformat_minor": 0,
  "metadata": {
    "colab": {
      "provenance": []
    },
    "kernelspec": {
      "name": "python3",
      "display_name": "Python 3"
    },
    "language_info": {
      "name": "python"
    }
  },
  "cells": [
    {
      "cell_type": "markdown",
      "source": [
        "1) Manuel değerleri el ile girerek 3 boyutlu bir array oluşturup bir değişkene atayın. Ardından 3 boyutlu olup olmadığına bakmak için dimension'ını kontrol edin\n"
      ],
      "metadata": {
        "id": "lStBDLyDHSdV"
      }
    },
    {
      "cell_type": "code",
      "execution_count": null,
      "metadata": {
        "id": "0VpMARZmX0-k"
      },
      "outputs": [],
      "source": [
        "import numpy as np"
      ]
    },
    {
      "cell_type": "code",
      "source": [
        "arr3D=np.array([[[1,1,1],[2,2,2],[3,3,3]],\n",
        "                [[4,4,4],[5,5,5],[6,6,6]]\n",
        "                ])\n",
        "arr3D.ndim"
      ],
      "metadata": {
        "colab": {
          "base_uri": "https://localhost:8080/"
        },
        "id": "NjTyu6NvYJSm",
        "outputId": "cc65c00a-92e9-4833-9a52-79362885a53c"
      },
      "execution_count": null,
      "outputs": [
        {
          "output_type": "execute_result",
          "data": {
            "text/plain": [
              "3"
            ]
          },
          "metadata": {},
          "execution_count": 5
        }
      ]
    },
    {
      "cell_type": "markdown",
      "source": [
        "2) 34, 40, 46, 52... 112 şeklinde devam eden 1 boyutlu bir array oluşturun.\n"
      ],
      "metadata": {
        "id": "BteaNr3kHehz"
      }
    },
    {
      "cell_type": "code",
      "source": [
        "arr=np.arange(34,113,6)\n",
        "arr"
      ],
      "metadata": {
        "colab": {
          "base_uri": "https://localhost:8080/"
        },
        "id": "NiXhTgs9ZhOd",
        "outputId": "ba228e1c-2c55-431a-94be-5c3297aabf5f"
      },
      "execution_count": null,
      "outputs": [
        {
          "output_type": "execute_result",
          "data": {
            "text/plain": [
              "array([ 34,  40,  46,  52,  58,  64,  70,  76,  82,  88,  94, 100, 106,\n",
              "       112])"
            ]
          },
          "metadata": {},
          "execution_count": 6
        }
      ]
    },
    {
      "cell_type": "markdown",
      "source": [
        "3) 50-500 arasında lineer artış gösteren 91 tane tam sayıdan oluşan bir array oluşturun.(dtype'ı int olsun)\n"
      ],
      "metadata": {
        "id": "YhXWAgywHkxd"
      }
    },
    {
      "cell_type": "code",
      "source": [
        "arrlinspace=np.linspace(50,500,91,dtype=int)\n",
        "arrlinspace"
      ],
      "metadata": {
        "colab": {
          "base_uri": "https://localhost:8080/"
        },
        "id": "4qUfNT3aZwBC",
        "outputId": "9146cacb-7b4e-4601-9ddb-564c5067ac83"
      },
      "execution_count": null,
      "outputs": [
        {
          "output_type": "execute_result",
          "data": {
            "text/plain": [
              "array([ 50,  55,  60,  65,  70,  75,  80,  85,  90,  95, 100, 105, 110,\n",
              "       115, 120, 125, 130, 135, 140, 145, 150, 155, 160, 165, 170, 175,\n",
              "       180, 185, 190, 195, 200, 205, 210, 215, 220, 225, 230, 235, 240,\n",
              "       245, 250, 255, 260, 265, 270, 275, 280, 285, 290, 295, 300, 305,\n",
              "       310, 315, 320, 325, 330, 335, 340, 345, 350, 355, 360, 365, 370,\n",
              "       375, 380, 385, 390, 395, 400, 405, 410, 415, 420, 425, 430, 435,\n",
              "       440, 445, 450, 455, 460, 465, 470, 475, 480, 485, 490, 495, 500])"
            ]
          },
          "metadata": {},
          "execution_count": 10
        }
      ]
    },
    {
      "cell_type": "markdown",
      "source": [
        "4) 100(10**2) ile 10000(10**5) arasında logaritmik artış gösteren 8 sayıdan oluşan bir array oluşturun.\n"
      ],
      "metadata": {
        "id": "Wc0IkWVhH4vX"
      }
    },
    {
      "cell_type": "code",
      "source": [
        "arrLog=np.logspace(2,5,8)\n",
        "arrLog"
      ],
      "metadata": {
        "colab": {
          "base_uri": "https://localhost:8080/"
        },
        "id": "CjAjawi2aExh",
        "outputId": "eb405d64-cb30-41d9-da10-5b3acbb9f247"
      },
      "execution_count": null,
      "outputs": [
        {
          "output_type": "execute_result",
          "data": {
            "text/plain": [
              "array([   100.        ,    268.26957953,    719.685673  ,   1930.69772888,\n",
              "         5179.47467923,  13894.95494373,  37275.93720315, 100000.        ])"
            ]
          },
          "metadata": {},
          "execution_count": 12
        }
      ]
    },
    {
      "cell_type": "markdown",
      "source": [
        "5) 0-8 tam arasındaki ardışık tam sayılardan oluşan(0 ve 8 dahil toplam 9 değer) 3x3 shape'inde bir matris oluşturun.\n"
      ],
      "metadata": {
        "id": "Bc_BT10hIChr"
      }
    },
    {
      "cell_type": "code",
      "source": [
        "arr3x3=np.random.randint(0,9,(3,3))\n",
        "arr3x3"
      ],
      "metadata": {
        "colab": {
          "base_uri": "https://localhost:8080/"
        },
        "id": "gQNLNwBiagDL",
        "outputId": "5aa493e8-0b41-4c57-f085-7b1fb7b313c4"
      },
      "execution_count": null,
      "outputs": [
        {
          "output_type": "execute_result",
          "data": {
            "text/plain": [
              "array([[8, 4, 2],\n",
              "       [2, 7, 1],\n",
              "       [3, 0, 3]])"
            ]
          },
          "metadata": {},
          "execution_count": 17
        }
      ]
    },
    {
      "cell_type": "markdown",
      "source": [
        "6) 6x6 formatında bir sıfır matrisi oluşturun. (dtype'ı int olsun)\n"
      ],
      "metadata": {
        "id": "pYKaH56hIPau"
      }
    },
    {
      "cell_type": "code",
      "source": [
        "arrZero6x6=np.zeros((6,6),dtype=int)\n",
        "arrZero6x6.shape"
      ],
      "metadata": {
        "colab": {
          "base_uri": "https://localhost:8080/"
        },
        "id": "lCa1osOca7ez",
        "outputId": "33b6e760-91eb-4f02-dfac-2310119714cf"
      },
      "execution_count": null,
      "outputs": [
        {
          "output_type": "execute_result",
          "data": {
            "text/plain": [
              "(6, 6)"
            ]
          },
          "metadata": {},
          "execution_count": 20
        }
      ]
    },
    {
      "cell_type": "markdown",
      "source": [
        "7) 4x4 formatında bir bir matrisi oluşturun. (dtype'ı int olsun)\n"
      ],
      "metadata": {
        "id": "JFmrhtREIW2t"
      }
    },
    {
      "cell_type": "code",
      "source": [
        "arrOnes4x4=np.ones((4,4),dtype=int)\n",
        "arrOnes4x4"
      ],
      "metadata": {
        "colab": {
          "base_uri": "https://localhost:8080/"
        },
        "id": "X2SLreLQbTB5",
        "outputId": "be8b70c0-66b1-4fdd-878b-e9a1f7bf1ab2"
      },
      "execution_count": null,
      "outputs": [
        {
          "output_type": "execute_result",
          "data": {
            "text/plain": [
              "array([[1, 1, 1, 1],\n",
              "       [1, 1, 1, 1],\n",
              "       [1, 1, 1, 1],\n",
              "       [1, 1, 1, 1]])"
            ]
          },
          "metadata": {},
          "execution_count": 23
        }
      ]
    },
    {
      "cell_type": "markdown",
      "source": [
        "8) 8x8 formatında bir birim matris oluşturun. (Sadece sol köşegeni 1 geri kalan değerleri 0 olan matris'e birim matris deniyor.) (dtype'ı int olsun)\n"
      ],
      "metadata": {
        "id": "LQNz1u0IIbFC"
      }
    },
    {
      "cell_type": "code",
      "source": [
        "arr8x8eye=np.eye(8,8,dtype=int)\n",
        "arr8x8eye"
      ],
      "metadata": {
        "colab": {
          "base_uri": "https://localhost:8080/"
        },
        "id": "3awq6m08bfjG",
        "outputId": "fa7e085c-3e4c-432e-8543-1f00bf939dfe"
      },
      "execution_count": null,
      "outputs": [
        {
          "output_type": "execute_result",
          "data": {
            "text/plain": [
              "array([[1, 0, 0, 0, 0, 0, 0, 0],\n",
              "       [0, 1, 0, 0, 0, 0, 0, 0],\n",
              "       [0, 0, 1, 0, 0, 0, 0, 0],\n",
              "       [0, 0, 0, 1, 0, 0, 0, 0],\n",
              "       [0, 0, 0, 0, 1, 0, 0, 0],\n",
              "       [0, 0, 0, 0, 0, 1, 0, 0],\n",
              "       [0, 0, 0, 0, 0, 0, 1, 0],\n",
              "       [0, 0, 0, 0, 0, 0, 0, 1]])"
            ]
          },
          "metadata": {},
          "execution_count": 25
        }
      ]
    },
    {
      "cell_type": "markdown",
      "source": [
        "9) 5x5 formatında bir köşegen matrisi oluşturun (Sadece sol üstten sağ alta doğru olan köşegendeki değerleri 3 olsun diğer bütün değerleri 0) (Bunu henüz görmediniz ama birim matrise benziyor, sadece köşegen değerleri 1 değil 3 olacak. Bir şeyler düşünün)\n"
      ],
      "metadata": {
        "id": "g1E4atQDIiDA"
      }
    },
    {
      "cell_type": "code",
      "source": [
        "arr5x5eye=np.eye(5,5,dtype=int)\n",
        "arr5x5eye*3"
      ],
      "metadata": {
        "colab": {
          "base_uri": "https://localhost:8080/"
        },
        "id": "nHljxJ15NN4q",
        "outputId": "2d32accb-caba-4e2a-8d4f-fd98c1585c5a"
      },
      "execution_count": null,
      "outputs": [
        {
          "output_type": "execute_result",
          "data": {
            "text/plain": [
              "array([[3, 0, 0, 0, 0],\n",
              "       [0, 3, 0, 0, 0],\n",
              "       [0, 0, 3, 0, 0],\n",
              "       [0, 0, 0, 3, 0],\n",
              "       [0, 0, 0, 0, 3]])"
            ]
          },
          "metadata": {},
          "execution_count": 26
        }
      ]
    },
    {
      "cell_type": "markdown",
      "source": [
        "10) np.random modülünden uygun fonksiyonu kullanarak 0-1 arasında toplam 6 tane değerden oluşan 1 boyutlu bir array oluşturun.\n"
      ],
      "metadata": {
        "id": "IhZR1lQxIm7J"
      }
    },
    {
      "cell_type": "code",
      "source": [
        "arr01=np.random.rand(6)\n",
        "arr01.shape"
      ],
      "metadata": {
        "id": "H-wO3IVFNgLB",
        "colab": {
          "base_uri": "https://localhost:8080/"
        },
        "outputId": "9f388555-1a7b-46c2-b771-72c6272768bc"
      },
      "execution_count": null,
      "outputs": [
        {
          "output_type": "execute_result",
          "data": {
            "text/plain": [
              "(6,)"
            ]
          },
          "metadata": {},
          "execution_count": 11
        }
      ]
    },
    {
      "cell_type": "markdown",
      "source": [
        "11) np.random modülünden uygun fonksiyonu kullanarak 50-100 arasındaki(50 ve 100 dahil) tam sayılardan 10 tanesiyle oluşan (5,2) shape'inde bir array oluşturun. Ardından bu arrayin shape'ini kontrol edin.\n"
      ],
      "metadata": {
        "id": "oLlkeY4zI2Nw"
      }
    },
    {
      "cell_type": "code",
      "source": [
        "arr5x2=np.random.randint(50,101,(5,2))\n",
        "arr5x2.shape"
      ],
      "metadata": {
        "colab": {
          "base_uri": "https://localhost:8080/"
        },
        "id": "-4wwXwXasuqE",
        "outputId": "9af3431b-e99d-4196-8a6b-6a0d6761a7ad"
      },
      "execution_count": null,
      "outputs": [
        {
          "output_type": "execute_result",
          "data": {
            "text/plain": [
              "(5, 2)"
            ]
          },
          "metadata": {},
          "execution_count": 10
        }
      ]
    },
    {
      "cell_type": "markdown",
      "source": [
        "12) np.random modülünden uygun fonksiyonu kullanarak 100-1000(1000 dahil değil) arasındaki tam sayılardan rastgele 50 tanesinden oluşan (2,5,5) shape'inde 3 boyutlu bir array oluşturun. Ardından bu array'in dimension'ını(boyutunu) ve shape'ini kontrol edin.\n"
      ],
      "metadata": {
        "id": "Bhsh7GphI7JW"
      }
    },
    {
      "cell_type": "code",
      "source": [
        "arr2x5x5=np.random.randint(100,1000,(2,5,5))\n",
        "arr2x5x5"
      ],
      "metadata": {
        "colab": {
          "base_uri": "https://localhost:8080/"
        },
        "id": "kajbtVFutA33",
        "outputId": "25eb91dd-7860-4a90-e073-3db0f002edf5"
      },
      "execution_count": null,
      "outputs": [
        {
          "output_type": "execute_result",
          "data": {
            "text/plain": [
              "array([[[519, 314, 679, 388, 786],\n",
              "        [127, 769, 359, 175, 485],\n",
              "        [384, 790, 399, 176, 960],\n",
              "        [461, 914, 168, 173, 464],\n",
              "        [960, 453, 147, 742, 999]],\n",
              "\n",
              "       [[400, 319, 178, 953, 955],\n",
              "        [277, 215, 948, 635, 469],\n",
              "        [233, 241, 172, 127, 138],\n",
              "        [191, 717, 886, 843, 301],\n",
              "        [839, 758, 279, 435, 622]]])"
            ]
          },
          "metadata": {},
          "execution_count": 16
        }
      ]
    },
    {
      "cell_type": "code",
      "source": [
        "arr2x5x5.shape"
      ],
      "metadata": {
        "colab": {
          "base_uri": "https://localhost:8080/"
        },
        "id": "afIpsrBDt1bO",
        "outputId": "a4f1abcf-98fc-496c-8a07-a84faa4fc76a"
      },
      "execution_count": null,
      "outputs": [
        {
          "output_type": "execute_result",
          "data": {
            "text/plain": [
              "(2, 5, 5)"
            ]
          },
          "metadata": {},
          "execution_count": 17
        }
      ]
    },
    {
      "cell_type": "code",
      "source": [
        "arr2x5x5.ndim"
      ],
      "metadata": {
        "colab": {
          "base_uri": "https://localhost:8080/"
        },
        "id": "v6CPJ0Rit-bX",
        "outputId": "0a4a70aa-bc74-439c-e271-bcb89b999d44"
      },
      "execution_count": null,
      "outputs": [
        {
          "output_type": "execute_result",
          "data": {
            "text/plain": [
              "3"
            ]
          },
          "metadata": {},
          "execution_count": 18
        }
      ]
    },
    {
      "cell_type": "markdown",
      "source": [
        "13) np.random modülünden uygun fonksiyonu kullanarak 0-100(0 ve 100 dahil) arasındaki tam sayılardan 10 tane seçerek bir array oluşturun. Bu array'in maximum, mininmum değerlerine ve bu değerlerin indexlerine bakın.\n"
      ],
      "metadata": {
        "id": "7ARvrt-4JCrG"
      }
    },
    {
      "cell_type": "code",
      "source": [
        "arr=np.random.randint(0,101,10)\n",
        "arr"
      ],
      "metadata": {
        "colab": {
          "base_uri": "https://localhost:8080/"
        },
        "id": "d1eilS1zuAoa",
        "outputId": "a2ee14fb-d222-4625-d0c6-8fd60b4bf7c6"
      },
      "execution_count": null,
      "outputs": [
        {
          "output_type": "execute_result",
          "data": {
            "text/plain": [
              "array([50, 43, 91, 29, 71, 40, 90, 56, 94, 21])"
            ]
          },
          "metadata": {},
          "execution_count": 7
        }
      ]
    },
    {
      "cell_type": "code",
      "source": [
        "arr.max()"
      ],
      "metadata": {
        "colab": {
          "base_uri": "https://localhost:8080/"
        },
        "id": "f3V4zHLhDfMJ",
        "outputId": "9cb5b270-2d37-42f6-a94d-3b89a8786054"
      },
      "execution_count": null,
      "outputs": [
        {
          "output_type": "execute_result",
          "data": {
            "text/plain": [
              "94"
            ]
          },
          "metadata": {},
          "execution_count": 8
        }
      ]
    },
    {
      "cell_type": "code",
      "source": [
        "arr.argmax()"
      ],
      "metadata": {
        "colab": {
          "base_uri": "https://localhost:8080/"
        },
        "id": "E5Smir-vDf6i",
        "outputId": "8a9aae31-5bba-4c40-c5f8-e6dbba1a762b"
      },
      "execution_count": null,
      "outputs": [
        {
          "output_type": "execute_result",
          "data": {
            "text/plain": [
              "8"
            ]
          },
          "metadata": {},
          "execution_count": 9
        }
      ]
    },
    {
      "cell_type": "code",
      "source": [
        "arr.min()"
      ],
      "metadata": {
        "colab": {
          "base_uri": "https://localhost:8080/"
        },
        "id": "aKJSuVZ0DnQA",
        "outputId": "07e55462-a3e0-4b23-ea57-e6e1966df21c"
      },
      "execution_count": null,
      "outputs": [
        {
          "output_type": "execute_result",
          "data": {
            "text/plain": [
              "21"
            ]
          },
          "metadata": {},
          "execution_count": 10
        }
      ]
    },
    {
      "cell_type": "code",
      "source": [
        "arr.argmin()"
      ],
      "metadata": {
        "colab": {
          "base_uri": "https://localhost:8080/"
        },
        "id": "HAjE0k5jDqk2",
        "outputId": "98ad045d-eb65-4389-85f7-f57e1c6356c9"
      },
      "execution_count": null,
      "outputs": [
        {
          "output_type": "execute_result",
          "data": {
            "text/plain": [
              "9"
            ]
          },
          "metadata": {},
          "execution_count": 11
        }
      ]
    },
    {
      "cell_type": "markdown",
      "source": [
        "14) np.random modülünden uygun fonksiyonu kullanarak 300-500(300 ve 500 dahil) arasındaki tam sayılardan 20 tane seçerek (2,2,5) shape'inde 3 boyutlu bir array oluşturun. Ardından bu array'in içindeki 20 tam sayı arasından maximum ve minimum değerleri manuel olarak tespit edin ve indexleme yaparak çekmeye çalışın.\n"
      ],
      "metadata": {
        "id": "ojFrYQx8JGy_"
      }
    },
    {
      "cell_type": "code",
      "source": [
        "arr2x5x5=np.random.randint(300,501,(2,5,5))\n",
        "arr2x5x5"
      ],
      "metadata": {
        "colab": {
          "base_uri": "https://localhost:8080/"
        },
        "id": "NP9GDBJuDs0Q",
        "outputId": "aedb5e19-aff1-43b1-8b67-d2fddb5e8903"
      },
      "execution_count": null,
      "outputs": [
        {
          "output_type": "execute_result",
          "data": {
            "text/plain": [
              "array([[[328, 317, 328, 332, 373],\n",
              "        [377, 463, 492, 307, 485],\n",
              "        [349, 470, 430, 498, 324],\n",
              "        [459, 440, 425, 496, 310],\n",
              "        [454, 318, 349, 350, 335]],\n",
              "\n",
              "       [[393, 384, 465, 391, 348],\n",
              "        [303, 384, 363, 462, 418],\n",
              "        [332, 362, 437, 405, 337],\n",
              "        [386, 447, 489, 439, 385],\n",
              "        [474, 436, 342, 475, 435]]])"
            ]
          },
          "metadata": {},
          "execution_count": 15
        }
      ]
    },
    {
      "cell_type": "code",
      "source": [
        "arr2x5x5.argmax()"
      ],
      "metadata": {
        "colab": {
          "base_uri": "https://localhost:8080/"
        },
        "id": "9d_aQBCeE5wc",
        "outputId": "9d5c51a8-b6c7-4f7d-c675-416103c9babd"
      },
      "execution_count": null,
      "outputs": [
        {
          "output_type": "execute_result",
          "data": {
            "text/plain": [
              "13"
            ]
          },
          "metadata": {},
          "execution_count": 22
        }
      ]
    },
    {
      "cell_type": "code",
      "source": [
        "arr2x5x5.argmin()"
      ],
      "metadata": {
        "colab": {
          "base_uri": "https://localhost:8080/"
        },
        "id": "BYTRC0EyEMvf",
        "outputId": "d3e3ff4c-e5ab-47cc-9768-b2350753225a"
      },
      "execution_count": null,
      "outputs": [
        {
          "output_type": "execute_result",
          "data": {
            "text/plain": [
              "30"
            ]
          },
          "metadata": {},
          "execution_count": 23
        }
      ]
    },
    {
      "cell_type": "code",
      "source": [
        "arr2x5x5[1][1][0]"
      ],
      "metadata": {
        "colab": {
          "base_uri": "https://localhost:8080/"
        },
        "id": "s52-6dFBER-x",
        "outputId": "4b470ec6-4fdd-4cff-ac70-ab1515c0b1f9"
      },
      "execution_count": null,
      "outputs": [
        {
          "output_type": "execute_result",
          "data": {
            "text/plain": [
              "303"
            ]
          },
          "metadata": {},
          "execution_count": 20
        }
      ]
    },
    {
      "cell_type": "code",
      "source": [
        "arr2x5x5[0][2][3]"
      ],
      "metadata": {
        "colab": {
          "base_uri": "https://localhost:8080/"
        },
        "id": "FiOh5sgiEaNU",
        "outputId": "88d928d5-8d73-4bad-ff49-d66bba8af1f0"
      },
      "execution_count": null,
      "outputs": [
        {
          "output_type": "execute_result",
          "data": {
            "text/plain": [
              "498"
            ]
          },
          "metadata": {},
          "execution_count": 21
        }
      ]
    },
    {
      "cell_type": "markdown",
      "source": [
        "15) 0-50(50 dahil) arasındaki ardışık tam sayılardan oluşan bir array oluşturun. Ardından bu arrayin 20. ve 35. indexleri arasındaki değerleri 500'e eşitleyin ve yeni oluşan array'i ekrana yazdırarak broadcasting işleminin yapılıp yapılmadığını test edin."
      ],
      "metadata": {
        "id": "cX5-_OBcJPA-"
      }
    },
    {
      "cell_type": "code",
      "source": [
        "arr050=np.arange(0,51,dtype=int)\n",
        "arr050[20]=500\n",
        "arr050[35]=500\n",
        "arr050"
      ],
      "metadata": {
        "colab": {
          "base_uri": "https://localhost:8080/"
        },
        "id": "RWwe69wPE2JD",
        "outputId": "592cf902-b4ef-479a-8a0e-68d3d966b42e"
      },
      "execution_count": null,
      "outputs": [
        {
          "output_type": "execute_result",
          "data": {
            "text/plain": [
              "array([  0,   1,   2,   3,   4,   5,   6,   7,   8,   9,  10,  11,  12,\n",
              "        13,  14,  15,  16,  17,  18,  19, 500,  21,  22,  23,  24,  25,\n",
              "        26,  27,  28,  29,  30,  31,  32,  33,  34, 500,  36,  37,  38,\n",
              "        39,  40,  41,  42,  43,  44,  45,  46,  47,  48,  49,  50])"
            ]
          },
          "metadata": {},
          "execution_count": 29
        }
      ]
    }
  ]
}